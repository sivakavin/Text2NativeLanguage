{
 "cells": [
  {
   "cell_type": "markdown",
   "metadata": {},
   "source": [
    "### Steps Going to follow\n",
    "\n",
    "1. Going import required library\n",
    "\n",
    "2. Instantiate the class means creating object for class.\n",
    "\n",
    "3. Passing text it is mandatory argument\n",
    "\n",
    "4. Using our object of 'textblob' calling 'translator' method and passing language code 'ta'-Tamil argument.\n",
    "\n",
    "5. finally we will get result in our native language.\n",
    "\n",
    "6. We have one more function to detect the language."
   ]
  },
  {
   "cell_type": "code",
   "execution_count": 11,
   "metadata": {},
   "outputs": [],
   "source": [
    "from textblob import TextBlob"
   ]
  },
  {
   "cell_type": "code",
   "execution_count": 12,
   "metadata": {},
   "outputs": [
    {
     "data": {
      "text/plain": [
       "TextBlob(\"அனைவருக்கும் நல்ல காலை !!!\")"
      ]
     },
     "execution_count": 12,
     "metadata": {},
     "output_type": "execute_result"
    }
   ],
   "source": [
    "blob = TextBlob(\"Good moring to all !!!\") # creating object of the class and passing argument\n",
    "blob.translate(to='ta')  # coverting english text into tamil language\n",
    "# we can convert as a any language"
   ]
  },
  {
   "cell_type": "code",
   "execution_count": 17,
   "metadata": {},
   "outputs": [
    {
     "data": {
      "text/plain": [
       "'ta'"
      ]
     },
     "execution_count": 17,
     "metadata": {},
     "output_type": "execute_result"
    }
   ],
   "source": [
    "# Detecting the language \n",
    "detect = TextBlob(\"அனைவருக்கும் நல்ல காலை\") # We can pass any language\n",
    "detect.detect_language() # This function will give me the result as language code , ta stands for Tamil"
   ]
  },
  {
   "cell_type": "code",
   "execution_count": null,
   "metadata": {},
   "outputs": [],
   "source": []
  }
 ],
 "metadata": {
  "kernelspec": {
   "display_name": "Python 3",
   "language": "python",
   "name": "python3"
  },
  "language_info": {
   "codemirror_mode": {
    "name": "ipython",
    "version": 3
   },
   "file_extension": ".py",
   "mimetype": "text/x-python",
   "name": "python",
   "nbconvert_exporter": "python",
   "pygments_lexer": "ipython3",
   "version": "3.8.5"
  }
 },
 "nbformat": 4,
 "nbformat_minor": 4
}
